{
 "cells": [
  {
   "cell_type": "code",
   "execution_count": 106,
   "id": "19499371",
   "metadata": {},
   "outputs": [],
   "source": [
    "import tkinter as tk\n",
    "from tkinter import messagebox\n",
    "from tkinter import PhotoImage\n",
    "import cv2\n",
    "import os\n",
    "from PIL import Image\n",
    "import numpy as np\n",
    "import pyaudio\n",
    "import wave\n",
    "#import numba\n",
    "import time\n",
    "import sounddevice as sound\n",
    "from scipy.io.wavfile import write\n",
    "#import time\n",
    "import wavio as wv\n",
    "#import numpy as np\n",
    "#import pandas as pd\n",
    "import joblib\n",
    "\n",
    "\n",
    "\n",
    "import librosa\n",
    "\n",
    "#import seaborn as sns\n",
    "#import matplotlib.pyplot as plt\n",
    "#from sklearn.preprocessing import StandardScaler, OneHotEncoder\n",
    "#from sklearn.metrics import confusion_matrix, classification_report\n",
    "#from sklearn.model_selection import train_test_split\n",
    "\n"
   ]
  },
  {
   "cell_type": "code",
   "execution_count": 5,
   "id": "2fa6a9cd",
   "metadata": {},
   "outputs": [
    {
     "name": "stdout",
     "output_type": "stream",
     "text": [
      "Collecting wavio\n",
      "  Downloading wavio-0.0.7-py2.py3-none-any.whl (8.7 kB)\n",
      "Requirement already satisfied: numpy>=1.19.0 in c:\\users\\abcd\\anaconda3\\lib\\site-packages (from wavio) (1.20.3)\n",
      "Installing collected packages: wavio\n",
      "Successfully installed wavio-0.0.7\n"
     ]
    }
   ],
   "source": [
    "#pip install sounddevice\n",
    "#!pip install wavio"
   ]
  },
  {
   "cell_type": "code",
   "execution_count": 107,
   "id": "7f184837",
   "metadata": {},
   "outputs": [],
   "source": [
    "scaler = joblib.load('scaler.joblib')\n",
    "encoder = joblib.load('encoder.joblib')"
   ]
  },
  {
   "cell_type": "code",
   "execution_count": null,
   "id": "b6bf2522",
   "metadata": {},
   "outputs": [],
   "source": [
    "!pip install numpy --upgrade"
   ]
  },
  {
   "cell_type": "code",
   "execution_count": null,
   "id": "805d4751",
   "metadata": {},
   "outputs": [],
   "source": []
  },
  {
   "cell_type": "code",
   "execution_count": 108,
   "id": "b220230c",
   "metadata": {},
   "outputs": [],
   "source": [
    "def feat_ext(data):\n",
    "    #Time_domain_features\n",
    "    # ZCR Persody features or Low level ascoustic features\n",
    "    result = np.array([])\n",
    "    zcr = np.mean(librosa.feature.zero_crossing_rate(y=data).T, axis=0)\n",
    "    result=np.hstack((result, zcr)) # stacking horizontally\n",
    "    #Frequency_domain_features\n",
    "    #Spectral and wavelet Features\n",
    "    #MFCC\n",
    "    mfcc = np.mean(librosa.feature.mfcc(y=data, sr=22050,n_mfcc=40).T, axis=0)\n",
    "    result = np.hstack((result, mfcc)) # stacking horizontally\n",
    "    return result"
   ]
  },
  {
   "cell_type": "code",
   "execution_count": 109,
   "id": "5aa5ba39",
   "metadata": {},
   "outputs": [],
   "source": [
    "def recording():\n",
    "    freq = 44100\n",
    "    dur = int(duration.get())\n",
    "    recording=sound.rec(dur*freq,samplerate=freq,channels=2)\n",
    "\n",
    "    #timer\n",
    "\n",
    "    try:\n",
    "        temp=int(duration.get())\n",
    "    except:\n",
    "        print(\"Please enter the right value\")\n",
    "    \n",
    "    while temp > 0:\n",
    "        root.update()\n",
    "        time.sleep(1)\n",
    "        temp-=1\n",
    "    \n",
    "        if(temp == 0):\n",
    "            messagebox.showinfo(\"Time Countdown\",\"Time's up\")\n",
    "        tk.Label(text=f\"{str(temp)}\",font=\"arial 40\",width=4,background=\"#4a4a4a\").place(x=195,y=500)\n",
    "    \n",
    "\n",
    "    sound.wait()\n",
    "    write(\"output.wav\",freq,recording)"
   ]
  },
  {
   "cell_type": "code",
   "execution_count": 110,
   "id": "5c311a5e",
   "metadata": {},
   "outputs": [],
   "source": [
    "def load_model():\n",
    "    from tensorflow.keras.models import Sequential, model_from_json\n",
    "    json_file = open('cnn.json', 'r')\n",
    "    loaded_model_json = json_file.read()\n",
    "    json_file.close()\n",
    "    loaded_model = model_from_json(loaded_model_json)\n",
    "    # load weights into new model\n",
    "    loaded_model.load_weights(\"cnn.h5\")"
   ]
  },
  {
   "cell_type": "code",
   "execution_count": 111,
   "id": "beddfd60",
   "metadata": {},
   "outputs": [],
   "source": [
    "def get_predict_feat(path):\n",
    "    d, s_rate= librosa.load(path, duration=2.5, offset=0.6)\n",
    "    res=feat_ext(d)\n",
    "    result=np.array(res)\n",
    "    result=np.reshape(result,newshape=(1,41))\n",
    "    i_result = scaler.transform(result)\n",
    "    final_result=np.expand_dims(i_result, axis=2)\n",
    "    \n",
    "    return final_result"
   ]
  },
  {
   "cell_type": "code",
   "execution_count": 112,
   "id": "3de9210c",
   "metadata": {},
   "outputs": [],
   "source": [
    "def prediction(path1):\n",
    "    res=get_predict_feat(path1)\n",
    "    predictions=model.predict(res)\n",
    "    y_pred = encoder.inverse_transform(predictions)\n",
    "    #messagebox.showinfo\n",
    "    tk.Button(root,text=y_pred[0][0],font=\"arial 40\",width=7,background=\"white\").place(x=135,y=500)\n",
    "    #print(y_pred[0][0]) \n",
    "    \n",
    "    \n",
    "    "
   ]
  },
  {
   "cell_type": "code",
   "execution_count": null,
   "id": "5260870f",
   "metadata": {},
   "outputs": [],
   "source": []
  },
  {
   "cell_type": "code",
   "execution_count": 113,
   "id": "f67cd7fb",
   "metadata": {},
   "outputs": [],
   "source": [
    "def start():\n",
    "    prediction(\"output.wav\")"
   ]
  },
  {
   "cell_type": "code",
   "execution_count": 114,
   "id": "d30623e5",
   "metadata": {},
   "outputs": [],
   "source": [
    "from tensorflow import keras\n",
    "model = keras.models.load_model(\"cnn.h5\")"
   ]
  },
  {
   "cell_type": "code",
   "execution_count": null,
   "id": "d79e0d20",
   "metadata": {},
   "outputs": [
    {
     "name": "stdout",
     "output_type": "stream",
     "text": [
      "1/1 [==============================] - 0s 107ms/step\n"
     ]
    }
   ],
   "source": [
    "root = tk.Tk()\n",
    "root.geometry(\"500x900\")\n",
    "root.resizable(False,False)\n",
    "root.title(\"Speech Emotion Detection\")\n",
    "root.configure(background=\"#4a4a4a\")\n",
    "\n",
    "#icon\n",
    "image_icon = tk.PhotoImage(file = \"Record.png\")\n",
    "root.iconphoto(False,image_icon)\n",
    "\n",
    "\n",
    "#logo\n",
    "photo = tk.PhotoImage(file=\"Record.png\")\n",
    "myimage=tk.Label(image=photo,background=\"#4a4a4a\")\n",
    "myimage.pack(padx=5,pady=5)\n",
    "\n",
    "#name\n",
    "tk.Label(text = \"Voice Recorder\",font=\"arial 30 bold\",background=\"#4a4a4a\",fg=\"white\").pack()\n",
    "\n",
    "#entrybox\n",
    "\n",
    "duration=tk.StringVar()\n",
    "entry=tk.Entry(root,textvariable=duration,font=\"arial 30\",width=15).pack(pady=10)\n",
    "tk.Label(text=\"Enter time in seconds\",font=\"arial 15\",background=\"#4a4a4a\",fg=\"white\").pack()\n",
    "\n",
    "#button\n",
    "record = tk.Button(root,font=\"arial 20\",text=\"Record\",bg=\"#111111\",fg=\"white\",border=0,command=recording).pack(pady=30)\n",
    "\n",
    "p = tk.Button(root,font=\"arial 20\",text=\"Get Prediction\",bg=\"#111111\",fg=\"white\",border=0,command=predc).pack(pady=30)\n",
    "\n",
    "root.mainloop()"
   ]
  },
  {
   "cell_type": "code",
   "execution_count": 34,
   "id": "3333bbb7",
   "metadata": {},
   "outputs": [],
   "source": [
    "def predc():\n",
    "    start()"
   ]
  },
  {
   "cell_type": "code",
   "execution_count": null,
   "id": "3af45b70",
   "metadata": {},
   "outputs": [],
   "source": [
    "#pip install numba --upgrade\n",
    "\n",
    "!pip install numpy --upgrade "
   ]
  },
  {
   "cell_type": "code",
   "execution_count": null,
   "id": "09dd43bd",
   "metadata": {},
   "outputs": [],
   "source": [
    "pip install llvmlite==0.37"
   ]
  },
  {
   "cell_type": "code",
   "execution_count": null,
   "id": "6602b5bc",
   "metadata": {},
   "outputs": [],
   "source": [
    "pip install --upgrade pip"
   ]
  },
  {
   "cell_type": "code",
   "execution_count": null,
   "id": "3ef6ab18",
   "metadata": {},
   "outputs": [],
   "source": []
  }
 ],
 "metadata": {
  "kernelspec": {
   "display_name": "Python 3 (ipykernel)",
   "language": "python",
   "name": "python3"
  },
  "language_info": {
   "codemirror_mode": {
    "name": "ipython",
    "version": 3
   },
   "file_extension": ".py",
   "mimetype": "text/x-python",
   "name": "python",
   "nbconvert_exporter": "python",
   "pygments_lexer": "ipython3",
   "version": "3.9.7"
  }
 },
 "nbformat": 4,
 "nbformat_minor": 5
}
